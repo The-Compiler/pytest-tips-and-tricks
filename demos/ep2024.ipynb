{
 "cells": [
  {
   "cell_type": "markdown",
   "id": "d47fcb20-03c2-4710-9d26-66705b273860",
   "metadata": {},
   "source": [
    "# pytest.raises"
   ]
  },
  {
   "cell_type": "code",
   "execution_count": 14,
   "id": "5901ebc5-6eb5-495c-a160-077d58313cb8",
   "metadata": {},
   "outputs": [
    {
     "name": "stdout",
     "output_type": "stream",
     "text": [
      "\u001b[1m======================================= test session starts ========================================\u001b[0m\n",
      "collected 3 items\n",
      "\n",
      "t_6947442cdcf74a3696aef7e735f8c8a1.py \u001b[32m.\u001b[0m\u001b[32m.\u001b[0m\u001b[31mF\u001b[0m\u001b[31m                                                    [100%]\u001b[0m\n",
      "\n",
      "============================================= FAILURES =============================================\n",
      "\u001b[31m\u001b[1m__________________________________________ test_negative ___________________________________________\u001b[0m\n",
      "\n",
      "    \u001b[0m\u001b[94mdef\u001b[39;49;00m \u001b[92mtest_negative\u001b[39;49;00m():\u001b[90m\u001b[39;49;00m\n",
      "        \u001b[94mwith\u001b[39;49;00m pytest.raises(\u001b[96mValueError\u001b[39;49;00m, match=\u001b[33m\"\u001b[39;49;00m\u001b[33mNo negativity allowed\u001b[39;49;00m\u001b[33m\"\u001b[39;49;00m):\u001b[90m\u001b[39;49;00m\n",
      ">           parse_pos_int(\u001b[33m\"\u001b[39;49;00m\u001b[33m-5a\u001b[39;49;00m\u001b[33m\"\u001b[39;49;00m)\u001b[90m\u001b[39;49;00m\n",
      "\n",
      "\u001b[1m\u001b[31m/tmp/ipykernel_486516/4055813075.py\u001b[0m:18: \n",
      "_ _ _ _ _ _ _ _ _ _ _ _ _ _ _ _ _ _ _ _ _ _ _ _ _ _ _ _ _ _ _ _ _ _ _ _ _ _ _ _ _ _ _ _ _ _ _ _ _ _ \n",
      "\n",
      "s = '-5a'\n",
      "\n",
      "    \u001b[0m\u001b[94mdef\u001b[39;49;00m \u001b[92mparse_pos_int\u001b[39;49;00m(s):\u001b[90m\u001b[39;49;00m\n",
      ">       n = \u001b[96mint\u001b[39;49;00m(s)\u001b[90m\u001b[39;49;00m\n",
      "\u001b[1m\u001b[31mE       ValueError: invalid literal for int() with base 10: '-5a'\u001b[0m\n",
      "\n",
      "\u001b[1m\u001b[31m/tmp/ipykernel_486516/4055813075.py\u001b[0m:4: ValueError\n",
      "\n",
      "\u001b[33mDuring handling of the above exception, another exception occurred:\u001b[0m\n",
      "\n",
      "    \u001b[0m\u001b[94mdef\u001b[39;49;00m \u001b[92mtest_negative\u001b[39;49;00m():\u001b[90m\u001b[39;49;00m\n",
      ">       \u001b[94mwith\u001b[39;49;00m pytest.raises(\u001b[96mValueError\u001b[39;49;00m, match=\u001b[33m\"\u001b[39;49;00m\u001b[33mNo negativity allowed\u001b[39;49;00m\u001b[33m\"\u001b[39;49;00m):\u001b[90m\u001b[39;49;00m\n",
      "\u001b[1m\u001b[31mE       AssertionError: Regex pattern did not match.\u001b[0m\n",
      "\u001b[1m\u001b[31mE        Regex: 'No negativity allowed'\u001b[0m\n",
      "\u001b[1m\u001b[31mE        Input: \"invalid literal for int() with base 10: '-5a'\"\u001b[0m\n",
      "\n",
      "\u001b[1m\u001b[31m/tmp/ipykernel_486516/4055813075.py\u001b[0m:17: AssertionError\n",
      "\u001b[36m\u001b[1m===================================== short test summary info ======================================\u001b[0m\n",
      "\u001b[31mFAILED\u001b[0m t_6947442cdcf74a3696aef7e735f8c8a1.py::\u001b[1mtest_negative\u001b[0m - AssertionError: Regex pattern did not match.\n",
      "\u001b[31m=================================== \u001b[31m\u001b[1m1 failed\u001b[0m, \u001b[32m2 passed\u001b[0m\u001b[31m in 0.02s\u001b[0m\u001b[31m ====================================\u001b[0m\n"
     ]
    }
   ],
   "source": [
    "%%ipytest\n",
    "import pytest\n",
    "\n",
    "def parse_pos_int(s):\n",
    "    n = int(s)\n",
    "    if n < 0:\n",
    "        raise ValueError(\"No negativity allowed, positive vibes only!\")\n",
    "    return n\n",
    "\n",
    "def test_ok():\n",
    "    assert parse_pos_int(\"5\") == 5\n",
    "\n",
    "def test_not_an_int():\n",
    "    with pytest.raises(ValueError):\n",
    "        parse_pos_int(\"x\")\n",
    "\n",
    "def test_negative():\n",
    "    with pytest.raises(ValueError, match=\"No negativity allowed\"):\n",
    "        parse_pos_int(\"-5\")"
   ]
  },
  {
   "cell_type": "markdown",
   "id": "f1ce4adc-ee3b-469b-ac26-a87fb185dd0e",
   "metadata": {},
   "source": [
    "# Marks\n",
    "\n",
    "Audience question: How to parametrize but only have one test case raise something?"
   ]
  },
  {
   "cell_type": "code",
   "execution_count": 20,
   "id": "07e82c69-b3a9-45ce-94a3-180718a80d45",
   "metadata": {},
   "outputs": [
    {
     "name": "stdout",
     "output_type": "stream",
     "text": [
      "\u001b[1m======================================= test session starts ========================================\u001b[0m\n",
      "collected 4 items\n",
      "\n",
      "t_6947442cdcf74a3696aef7e735f8c8a1.py \u001b[32m.\u001b[0m\u001b[32m.\u001b[0m\u001b[32m.\u001b[0m\u001b[32m.\u001b[0m\u001b[32m                                                   [100%]\u001b[0m\n",
      "\n",
      "\u001b[32m======================================== \u001b[32m\u001b[1m4 passed\u001b[0m\u001b[32m in 0.02s\u001b[0m\u001b[32m =========================================\u001b[0m\n"
     ]
    }
   ],
   "source": [
    "%%ipytest\n",
    "import pytest\n",
    "\n",
    "@pytest.mark.parametrize(\"s, n\", [\n",
    "    (\"5\", 5),\n",
    "    (\"8\", 8),\n",
    "])\n",
    "def test_good(s, n):\n",
    "    assert parse_pos_int(s) == n\n",
    "\n",
    "\n",
    "@pytest.mark.parametrize(\"s, message\", [\n",
    "    (\"-1\", \"No negativity allowed\"),\n",
    "    (\"a\", \"invalid literal for int\"),\n",
    "])\n",
    "def test_bad(s, message):\n",
    "    with pytest.raises(ValueError, match=message):\n",
    "        parse_pos_int(s)"
   ]
  },
  {
   "cell_type": "code",
   "execution_count": 24,
   "id": "57d45e98-dca2-45a0-890f-4a44488722eb",
   "metadata": {},
   "outputs": [
    {
     "name": "stdout",
     "output_type": "stream",
     "text": [
      "\u001b[1m======================================= test session starts ========================================\u001b[0m\n",
      "collected 4 items\n",
      "\n",
      "t_6947442cdcf74a3696aef7e735f8c8a1.py \u001b[32m.\u001b[0m\u001b[32m.\u001b[0m\u001b[32m.\u001b[0m\u001b[32m.\u001b[0m\u001b[32m                                                   [100%]\u001b[0m\n",
      "\n",
      "\u001b[32m======================================== \u001b[32m\u001b[1m4 passed\u001b[0m\u001b[32m in 0.02s\u001b[0m\u001b[32m =========================================\u001b[0m\n"
     ]
    }
   ],
   "source": [
    "%%ipytest\n",
    "import pytest\n",
    "from contextlib import nullcontext\n",
    "\n",
    "@pytest.mark.parametrize(\"inp, expectation\", [\n",
    "    (\"5\", nullcontext()),\n",
    "    (\"8\", nullcontext()),\n",
    "    (\"-1\", pytest.raises(ValueError)),\n",
    "    (\"a\", pytest.raises(ValueError)),\n",
    "])\n",
    "def test_smoke(inp, expectation):\n",
    "    with expectation:\n",
    "        parse_pos_int(inp)"
   ]
  },
  {
   "cell_type": "markdown",
   "id": "fb0852d1-dad5-45f1-80f8-3680cc346ed7",
   "metadata": {},
   "source": [
    "[Flaky tests · Issue #5390 · qutebrowser/qutebrowser](https://github.com/qutebrowser/qutebrowser/issues/5390)"
   ]
  },
  {
   "cell_type": "markdown",
   "id": "fdf477eb-5b4e-49b3-a515-e3936f9246b2",
   "metadata": {},
   "source": [
    "# Fixtures"
   ]
  },
  {
   "cell_type": "code",
   "execution_count": 32,
   "id": "a0b6a0fb-7faa-4ca2-ba72-09488f99ae82",
   "metadata": {},
   "outputs": [
    {
     "name": "stdout",
     "output_type": "stream",
     "text": [
      "\u001b[1m======================================= test session starts ========================================\u001b[0m\n",
      "collected 2 items\n",
      "\n",
      "t_6947442cdcf74a3696aef7e735f8c8a1.py \u001b[32m.\u001b[0m\u001b[31mE\u001b[0m\u001b[31m                                                     [100%]\u001b[0m\n",
      "\n",
      "============================================== ERRORS ==============================================\n",
      "\u001b[31m\u001b[1m__________________________________ ERROR at setup of test_marker ___________________________________\u001b[0m\n",
      "\n",
      "request = <SubRequest 'config' for <Function test_marker>>\n",
      "\n",
      "    \u001b[0m\u001b[37m@pytest\u001b[39;49;00m.fixture\u001b[90m\u001b[39;49;00m\n",
      "    \u001b[94mdef\u001b[39;49;00m \u001b[92mconfig\u001b[39;49;00m(request: pytest.FixtureRequest) -> Config:\u001b[90m\u001b[39;49;00m\n",
      "        marker = request.node.get_closest_marker(\u001b[33m\"\u001b[39;49;00m\u001b[33mprompt\u001b[39;49;00m\u001b[33m\"\u001b[39;49;00m)\u001b[90m\u001b[39;49;00m\n",
      "        \u001b[94mif\u001b[39;49;00m marker \u001b[95mis\u001b[39;49;00m \u001b[94mNone\u001b[39;49;00m:\u001b[90m\u001b[39;49;00m\n",
      "            \u001b[94mreturn\u001b[39;49;00m Config(prompt=\u001b[33m\"\u001b[39;49;00m\u001b[33m>\u001b[39;49;00m\u001b[33m\"\u001b[39;49;00m)\u001b[90m\u001b[39;49;00m\n",
      ">       \u001b[94mreturn\u001b[39;49;00m Config(prompt=get_prompt_from_marker(*marker.args, **marker.kwargs))\u001b[90m\u001b[39;49;00m\n",
      "\u001b[1m\u001b[31mE       TypeError: get_prompt_from_marker() got an unexpected keyword argument 'blabla'\u001b[0m\n",
      "\n",
      "\u001b[1m\u001b[31m/tmp/ipykernel_486516/1425000994.py\u001b[0m:14: TypeError\n",
      "\u001b[36m\u001b[1m===================================== short test summary info ======================================\u001b[0m\n",
      "\u001b[31mERROR\u001b[0m t_6947442cdcf74a3696aef7e735f8c8a1.py::\u001b[1mtest_marker\u001b[0m - TypeError: get_prompt_from_marker() got an unexpected keyword argument 'blabla'\n",
      "\u001b[31m==================================== \u001b[32m1 passed\u001b[0m, \u001b[31m\u001b[1m1 error\u001b[0m\u001b[31m in 0.02s\u001b[0m\u001b[31m ====================================\u001b[0m\n"
     ]
    }
   ],
   "source": [
    "%%ipytest\n",
    "\n",
    "import pytest\n",
    "\n",
    "from rpncalc.utils import Config\n",
    "\n",
    "def get_prompt_from_marker(prompt):\n",
    "    return prompt\n",
    "\n",
    "\n",
    "@pytest.fixture\n",
    "def config(request: pytest.FixtureRequest) -> Config:\n",
    "    marker = request.node.get_closest_marker(\"prompt\")\n",
    "    if marker is None:\n",
    "        return Config(prompt=\">\")\n",
    "    return Config(prompt=get_prompt_from_marker(*marker.args, **marker.kwargs))\n",
    "\n",
    "\n",
    "def test_normal(config: Config):\n",
    "    assert config.prompt == \">\"\n",
    "\n",
    "\n",
    "\n",
    "@pytest.mark.prompt(\"rpn>\", blabla=42)\n",
    "def test_marker(config: Config):\n",
    "    assert config.prompt == \"rpn>\"\n",
    "\n",
    "\n",
    "### possible alternative approach for arg validation\n",
    "\n",
    "def prompt_mark(prompt: str):\n",
    "    return pytest.mark.prompt(prompt)\n",
    "\n"
   ]
  },
  {
   "cell_type": "markdown",
   "id": "cdb8a928-a5d7-4350-9810-dfc7aae7b389",
   "metadata": {},
   "source": [
    "# Links\n",
    "\n",
    "- [GitHub - boxed/mutmut: Mutation testing system](https://github.com/boxed/mutmut)\n",
    "- [flakytest.dev](https://flakytest.dev/)"
   ]
  }
 ],
 "metadata": {
  "kernelspec": {
   "display_name": "venv-pytest-training",
   "language": "python",
   "name": "venv-pytest-training"
  },
  "language_info": {
   "codemirror_mode": {
    "name": "ipython",
    "version": 3
   },
   "file_extension": ".py",
   "mimetype": "text/x-python",
   "name": "python",
   "nbconvert_exporter": "python",
   "pygments_lexer": "ipython3",
   "version": "3.12.4"
  }
 },
 "nbformat": 4,
 "nbformat_minor": 5
}
